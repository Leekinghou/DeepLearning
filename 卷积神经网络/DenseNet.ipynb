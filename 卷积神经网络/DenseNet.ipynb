{
 "cells": [
  {
   "cell_type": "markdown",
   "id": "39d8c6aa",
   "metadata": {},
   "source": [
    "# DenseNet"
   ]
  },
  {
   "cell_type": "markdown",
   "id": "beee437c",
   "metadata": {},
   "source": [
    "从ResNet到DenseNet"
   ]
  },
  {
   "cell_type": "markdown",
   "id": "125e5976",
   "metadata": {},
   "source": [
    "回想一下任意函数的泰勒展开式（Taylor expansion），它把这个函数分解成越来越高阶的项。在  𝑥  接近 0 时，"
   ]
  },
  {
   "attachments": {},
   "cell_type": "markdown",
   "id": "a0d623bc",
   "metadata": {},
   "source": [
    "![](https://gitee.com/leekinghou/image/raw/master/img/20211126151734.png)"
   ]
  },
  {
   "cell_type": "markdown",
   "id": "0245bb44",
   "metadata": {},
   "source": [
    "也就是说，ResNet 将  𝑓  分解为两部分：**一个简单的线性项**和**一个更复杂的非线性项**。 那么再向前拓展一步，如果我们想**将  𝑓  拓展成超过两部分的信息**呢？ 一种方案便是 DenseNet。"
   ]
  },
  {
   "cell_type": "markdown",
   "id": "ccde4d43",
   "metadata": {},
   "source": [
    "![](https://gitee.com/leekinghou/image/raw/master/img/20211126151815.png)"
   ]
  },
  {
   "cell_type": "markdown",
   "id": "564e61ff",
   "metadata": {},
   "source": [
    "如 图7.7.1 所示，ResNet 和 DenseNet 的关键区别在于，DenseNet 输出是连接（用图中的  [,]  表示）而不是如 ResNet 的简单相加。 因此，在应用越来越复杂的函数序列后，我们执行从  𝐱  到其展开式的映射："
   ]
  },
  {
   "cell_type": "markdown",
   "id": "c7a04ec4",
   "metadata": {},
   "source": [
    "$𝐱→[𝐱,𝑓1(𝐱),𝑓2([𝐱,𝑓1(𝐱)]),𝑓3([𝐱,𝑓1(𝐱),𝑓2([𝐱,𝑓1(𝐱)])]),…].$"
   ]
  },
  {
   "cell_type": "markdown",
   "id": "97759b8b",
   "metadata": {},
   "source": [
    "最后，将这些展开式结合到多层感知机中，再次减少特征的数量。 实现起来非常简单：我们不需要添加术语，而是将它们连接起来。 DenseNet 这个名字由变量之间的“稠密连接”而得来，最后一层与之前的所有层紧密相连。"
   ]
  },
  {
   "cell_type": "markdown",
   "id": "09f1bf4b",
   "metadata": {},
   "source": [
    "![](https://gitee.com/leekinghou/image/raw/master/img/20211126152103.png)"
   ]
  },
  {
   "cell_type": "markdown",
   "id": "a9c4efc5",
   "metadata": {},
   "source": [
    "稠密网络主要由 2 部分构成： 稠密块（dense block）和 过渡层 （transition layer）。 前者定义如何连接输入和输出，而后者则控制通道数量，使其不会太复杂。"
   ]
  },
  {
   "cell_type": "markdown",
   "id": "4dff7e16",
   "metadata": {},
   "source": [
    "## 稠密块体\n",
    "DenseNet 使用了 ResNet 改良版的\"**批量归一化、激活和卷积**\"结构。 我们首先实现一下这个结构。"
   ]
  },
  {
   "cell_type": "code",
   "execution_count": 1,
   "id": "18c7dac7",
   "metadata": {},
   "outputs": [],
   "source": [
    "import torch\n",
    "from torch import nn\n",
    "from d2l import torch as d2l\n",
    "\n",
    "\n",
    "def conv_block(input_channels, num_channels):\n",
    "    return nn.Sequential(\n",
    "        nn.BatchNorm2d(input_channels), nn.ReLU(),\n",
    "        nn.Conv2d(input_channels, num_channels, kernel_size=3, padding=1))"
   ]
  },
  {
   "cell_type": "markdown",
   "id": "b3a3bab5",
   "metadata": {},
   "source": [
    "一个稠密块由多个卷积块组成，每个卷积块使用相同数量的输出信道。 然而，在前向传播中，我们将每个卷积块的输入和输出在通道维上连结。"
   ]
  },
  {
   "cell_type": "code",
   "execution_count": 2,
   "id": "448a83da",
   "metadata": {},
   "outputs": [],
   "source": [
    "class DenseBlock(nn.Module):\n",
    "    def __init__(self, num_convs, input_channels, num_channels):\n",
    "        super(DenseBlock, self).__init__()\n",
    "        layer = []\n",
    "        for i in range(num_convs):\n",
    "            layer.append(conv_block(\n",
    "                num_channels * i + input_channels, num_channels))\n",
    "        self.net = nn.Sequential(*layer)\n",
    "\n",
    "    def forward(self, X):\n",
    "        for blk in self.net:\n",
    "            Y = blk(X)\n",
    "            # 连接通道维度上每个块的输入和输出\n",
    "            X = torch.cat((X, Y), dim=1)\n",
    "        return X"
   ]
  },
  {
   "cell_type": "markdown",
   "id": "2fa5319d",
   "metadata": {},
   "source": [
    "在下面的例子中，我们定义一个有 2 个输出通道数为 10 的 DenseBlock。 使用通道数为 3 的输入时，我们会得到通道数为  3+2×10=23  的输出。 卷积块的通道数控制了输出通道数相对于输入通道数的增长，因此也被称为增长率（growth rate）。"
   ]
  },
  {
   "cell_type": "code",
   "execution_count": 3,
   "id": "e4b46802",
   "metadata": {},
   "outputs": [
    {
     "data": {
      "text/plain": [
       "torch.Size([4, 23, 8, 8])"
      ]
     },
     "execution_count": 3,
     "metadata": {},
     "output_type": "execute_result"
    }
   ],
   "source": [
    "blk = DenseBlock(2, 3, 10)\n",
    "X = torch.randn(4, 3, 8, 8)\n",
    "Y = blk(X)\n",
    "Y.shape"
   ]
  },
  {
   "cell_type": "markdown",
   "id": "2b2e1c12",
   "metadata": {},
   "source": [
    "## 过渡层\n",
    "由于每个稠密块都会带来通道数的增加，使用过多则会过于复杂化模型。 而过渡层可以用来控制模型复杂度。 它通过  1×1  卷积层来减小通道数，并使用步幅为 2 的平均汇聚层减半高和宽，**从而进一步降低模型复杂度**。"
   ]
  },
  {
   "cell_type": "code",
   "execution_count": 5,
   "id": "1014a3cf",
   "metadata": {},
   "outputs": [],
   "source": [
    "def transition_block(input_channels, num_channels):\n",
    "    return nn.Sequential(\n",
    "        nn.BatchNorm2d(input_channels), nn.ReLU(),\n",
    "        nn.Conv2d(input_channels, num_channels, kernel_size=1),\n",
    "        nn.AvgPool2d(kernel_size=2, stride=2))"
   ]
  },
  {
   "cell_type": "markdown",
   "id": "9f79a97d",
   "metadata": {},
   "source": [
    "对上一个例子中稠密块的输出使用通道数为 10 的过渡层。 此时输出的通道数减为 10，高和宽均减半。"
   ]
  },
  {
   "cell_type": "code",
   "execution_count": 7,
   "id": "67245dfc",
   "metadata": {},
   "outputs": [
    {
     "data": {
      "text/plain": [
       "torch.Size([4, 10, 4, 4])"
      ]
     },
     "execution_count": 7,
     "metadata": {},
     "output_type": "execute_result"
    }
   ],
   "source": [
    "blk = transition_block(23, 10)\n",
    "blk(Y).shape"
   ]
  },
  {
   "cell_type": "markdown",
   "id": "ebc83b1e",
   "metadata": {},
   "source": [
    "## DenseNet模型\n",
    "我们来构造 DenseNet 模型。DenseNet 首先使用同 ResNet 一样的单卷积层和最大汇聚层"
   ]
  },
  {
   "cell_type": "code",
   "execution_count": 8,
   "id": "0c99c60a",
   "metadata": {},
   "outputs": [],
   "source": [
    "b1 = nn.Sequential(\n",
    "    nn.Conv2d(1, 64, kernel_size=7, stride=2, padding=3),\n",
    "    nn.BatchNorm2d(64), nn.ReLU(),\n",
    "    nn.MaxPool2d(kernel_size=3, stride=2, padding=1))"
   ]
  },
  {
   "cell_type": "markdown",
   "id": "f1a65485",
   "metadata": {},
   "source": [
    "接下来，类似于 ResNet 使用的 4 个残差块，DenseNet 使用的是 4 个稠密块。 与 ResNet 类似，我们可以设置每个稠密块使用多少个卷积层。 这里我们设成 4，从而与 7.6节 的 ResNet-18 保持一致。 稠密块里的卷积层通道数（即增长率）设为 32，所以每个稠密块将增加 128 个通道。\n",
    "\n",
    "在每个模块之间，ResNet 通过步幅为 2 的残差块减小高和宽，DenseNet 则使用过渡层来减半高和宽，并减半通道数。"
   ]
  },
  {
   "cell_type": "code",
   "execution_count": 9,
   "id": "ac6cfe36",
   "metadata": {},
   "outputs": [],
   "source": [
    "# `num_channels`为当前的通道数\n",
    "num_channels, growth_rate = 64, 32\n",
    "num_convs_in_dense_blocks = [4, 4, 4, 4]\n",
    "blks = []\n",
    "for i, num_convs in enumerate(num_convs_in_dense_blocks):\n",
    "    blks.append(DenseBlock(num_convs, num_channels, growth_rate))\n",
    "    # 上一个稠密块的输出通道数\n",
    "    num_channels += num_convs * growth_rate\n",
    "    # 在稠密块之间添加一个转换层，使通道数量减半\n",
    "    if i != len(num_convs_in_dense_blocks) - 1:\n",
    "        blks.append(transition_block(num_channels, num_channels // 2))\n",
    "        num_channels = num_channels // 2"
   ]
  },
  {
   "cell_type": "markdown",
   "id": "5a975c9f",
   "metadata": {},
   "source": [
    "与 ResNet 类似，最后接上全局汇聚层和全连接层来输出结果。"
   ]
  },
  {
   "cell_type": "code",
   "execution_count": 10,
   "id": "d41b1841",
   "metadata": {},
   "outputs": [],
   "source": [
    "net = nn.Sequential(\n",
    "    b1, *blks,\n",
    "    nn.BatchNorm2d(num_channels), nn.ReLU(),\n",
    "    nn.AdaptiveMaxPool2d((1, 1)),\n",
    "    nn.Flatten(),\n",
    "    nn.Linear(num_channels, 10))"
   ]
  },
  {
   "cell_type": "markdown",
   "id": "e3499063",
   "metadata": {},
   "source": [
    "## 训练模型\n",
    "由于这里使用了比较深的网络，本节里我们将输入高和宽从 224 降到 96 来简化计算。"
   ]
  },
  {
   "cell_type": "code",
   "execution_count": null,
   "id": "ec174eba",
   "metadata": {},
   "outputs": [],
   "source": [
    "lr, num_epochs, batch_size = 0.1, 10, 256\n",
    "train_iter, test_iter = d2l.load_data_fashion_mnist(batch_size, resize=96)\n",
    "d2l.train_ch6(net, train_iter, test_iter, num_epochs, lr, d2l.try_gpu())"
   ]
  },
  {
   "cell_type": "markdown",
   "id": "d0a16b10",
   "metadata": {},
   "source": [
    "![](https://gitee.com/leekinghou/image/raw/master/img/20211126165852.png)"
   ]
  },
  {
   "cell_type": "markdown",
   "id": "760564b4",
   "metadata": {},
   "source": [
    "## 小结\n",
    "在跨层连接上，不同于 ResNet 中将输入与输出相加，稠密连接网络（DenseNet）在通道维上连结输入与输出。\n",
    "\n",
    "DenseNet 的主要构建模块是稠密块和过渡层。\n",
    "\n",
    "在构建 DenseNet 时，我们需要通过添加过渡层来控制网络的维数，从而再次减少信道的数量。"
   ]
  }
 ],
 "metadata": {
  "kernelspec": {
   "display_name": "Python 3 (ipykernel)",
   "language": "python",
   "name": "python3"
  },
  "language_info": {
   "codemirror_mode": {
    "name": "ipython",
    "version": 3
   },
   "file_extension": ".py",
   "mimetype": "text/x-python",
   "name": "python",
   "nbconvert_exporter": "python",
   "pygments_lexer": "ipython3",
   "version": "3.8.10"
  }
 },
 "nbformat": 4,
 "nbformat_minor": 5
}
